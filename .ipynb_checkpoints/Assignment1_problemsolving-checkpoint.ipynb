{
 "cells": [
  {
   "cell_type": "code",
   "execution_count": 15,
   "id": "fa0a9d07-9266-47bb-a1a2-66028093c8da",
   "metadata": {},
   "outputs": [
    {
     "name": "stdout",
     "output_type": "stream",
     "text": [
      "Repeats at index: 60\n",
      "Number Bracelet 1: 1 -> 5 -> 6 -> 1 -> 7 -> 8 -> 5 -> 3 -> 8 -> 1 -> 9 -> 0 -> 9 -> 9 -> 8 -> 7 -> 5 -> 2 -> 7 -> 9 -> 6 -> 5 -> 1 -> 6 -> 7 -> 3 -> 0 -> 3 -> 3 -> 6 -> 9 -> 5 -> 4 -> 9 -> 3 -> 2 -> 5 -> 7 -> 2 -> 9 -> 1 -> 0 -> 1 -> 1 -> 2 -> 3 -> 5 -> 8 -> 3 -> 1 -> 4 -> 5 -> 9 -> 4 -> 3 -> 7 -> 0 -> 7 -> 7 -> 4 -> 1 -> 5\n",
      "Repeats at index: 20\n",
      "Number Bracelet 2: 2 -> 0 -> 2 -> 2 -> 4 -> 6 -> 0 -> 6 -> 6 -> 2 -> 8 -> 0 -> 8 -> 8 -> 6 -> 4 -> 0 -> 4 -> 4 -> 8 -> 2 -> 0\n",
      "Repeats at index: 12\n",
      "Number Bracelet 3: 6 -> 3 -> 9 -> 2 -> 1 -> 3 -> 4 -> 7 -> 1 -> 8 -> 9 -> 7 -> 6 -> 3\n",
      "Repeats at index: 4\n",
      "Number Bracelet 4: 2 -> 6 -> 8 -> 4 -> 2 -> 6\n",
      "Repeats at index: 3\n",
      "Number Bracelet 5: 5 -> 0 -> 5 -> 5 -> 0\n",
      "Repeats at index: 1\n",
      "Number Bracelet 6: 0 -> 0 -> 0\n"
     ]
    }
   ],
   "source": [
    "def Number_Bracelet(A,B,max_length):\n",
    "    bracelet= [A,B]\n",
    "    \n",
    "    #to store the data of these number bracelets to\n",
    "    #allow the code to detect repeats I will use tuple\n",
    "    repeats= {tuple(bracelet)}\n",
    "    \n",
    "    for _ in range(max_length - 2):\n",
    "        number_next=(bracelet[-1]+bracelet[-2])%10\n",
    "        \n",
    "        #The percentage 10 allows me to take mod ten removing the tens digit\n",
    "        \n",
    "        bracelet.append(number_next)\n",
    "        \n",
    "        pattern=tuple(bracelet[-2:])\n",
    "        # this is the code that will check the two previous pairs to make sure no repeating occurs\n",
    "        if pattern in repeats:\n",
    "            print(\"Repeats at index:\",len(bracelet)-2)\n",
    "            break\n",
    "            \n",
    "        \n",
    "    return bracelet\n",
    "\n",
    "\n",
    "#Bracelet 1\n",
    "\n",
    "starting_numbers1 = (1,5)\n",
    "max_bracelet_length= 1000\n",
    "\n",
    "resulting_bracelet1 = Number_Bracelet(*starting_numbers1, max_bracelet_length)\n",
    "print(\"Number Bracelet 1:\", \" -> \".join(map(str, resulting_bracelet1)))\n",
    "#Bracelet 2\n",
    "\n",
    "starting_numbers2 = (2,0)\n",
    "max_bracelet_length = 1000\n",
    "resulting_bracelet2 = Number_Bracelet(*starting_numbers2, max_bracelet_length)\n",
    "print(\"Number Bracelet 2:\", \" -> \".join(map(str, resulting_bracelet2)))\n",
    "\n",
    "#Bracelet 3\n",
    "\n",
    "starting_numbers3 = (6,3)\n",
    "max_bracelet_length = 1000\n",
    "\n",
    "resulting_bracelet3 = Number_Bracelet(*starting_numbers3, max_bracelet_length)\n",
    "print(\"Number Bracelet 3:\", \" -> \".join(map(str, resulting_bracelet3)))\n",
    "#Bracelet 4\n",
    "\n",
    "starting_numbers4 = (2,6)\n",
    "max_bracelet_length = 1000\n",
    "\n",
    "resulting_bracelet4 = Number_Bracelet(*starting_numbers4, max_bracelet_length)\n",
    "print(\"Number Bracelet 4:\", \" -> \".join(map(str, resulting_bracelet4)))\n",
    "#Bracelet 5\n",
    "\n",
    "starting_numbers5 = (5,0)\n",
    "max_bracelet_length = 1000\n",
    "\n",
    "resulting_bracelet5 = Number_Bracelet(*starting_numbers5, max_bracelet_length)\n",
    "print(\"Number Bracelet 5:\", \" -> \".join(map(str, resulting_bracelet5)))\n",
    "#Bracelet 6\n",
    "starting_numbers6 = (0,0)\n",
    "max_bracelet_length = 1000\n",
    "resulting_bracelet6 = Number_Bracelet(*starting_numbers6, max_bracelet_length)\n",
    "print(\"Number Bracelet 6:\", \" -> \".join(map(str, resulting_bracelet6)))"
   ]
  },
  {
   "cell_type": "code",
   "execution_count": null,
   "id": "4cd018d6-77fb-470e-995f-513ef23e6a25",
   "metadata": {},
   "outputs": [],
   "source": []
  },
  {
   "cell_type": "code",
   "execution_count": null,
   "id": "2ad0b088-9629-49ff-a037-d824f6c3bba7",
   "metadata": {},
   "outputs": [],
   "source": []
  }
 ],
 "metadata": {
  "kernelspec": {
   "display_name": "Python 3 (ipykernel)",
   "language": "python",
   "name": "python3"
  },
  "language_info": {
   "codemirror_mode": {
    "name": "ipython",
    "version": 3
   },
   "file_extension": ".py",
   "mimetype": "text/x-python",
   "name": "python",
   "nbconvert_exporter": "python",
   "pygments_lexer": "ipython3",
   "version": "3.9.7"
  }
 },
 "nbformat": 4,
 "nbformat_minor": 5
}
